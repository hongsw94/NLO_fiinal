{
 "cells": [
  {
   "cell_type": "code",
   "execution_count": 1,
   "metadata": {},
   "outputs": [],
   "source": [
    "import numpy as np \n",
    "import matplotlib.pyplot as plt \n",
    "import matplotlib as mpl \n",
    "\n",
    "from sklearn.model_selection import train_test_split\n"
   ]
  },
  {
   "cell_type": "code",
   "execution_count": 3,
   "metadata": {},
   "outputs": [],
   "source": [
    "### prepare datasets (a.k.a, input vector x (n-dimensional))\n",
    "\n",
    "def load_data() -> np.ndarray:\n",
    "    pass "
   ]
  },
  {
   "cell_type": "markdown",
   "metadata": {},
   "source": [
    "### 1. Function that makes residual vector (+ compute residual)"
   ]
  },
  {
   "cell_type": "code",
   "execution_count": 4,
   "metadata": {},
   "outputs": [],
   "source": [
    "### compute Residual vector \n",
    "\n",
    "# input: n-dimensional vector (x)\n",
    "# hidden : each vector size of k-dimension\n",
    "# output: mk-dimensional vector (r)\n",
    "def residual(x: np.ndarray) -> np.ndarray:\n",
    "    pass\n",
    "\n",
    "def cost(residual: np.ndarray):\n",
    "    return np.sum(residual)"
   ]
  },
  {
   "cell_type": "markdown",
   "metadata": {},
   "source": [
    "### 2. Functions that use the Jacobian matrix: \n",
    "\n",
    "- `compute_grad`\n",
    "- `compute_hessian`\n"
   ]
  },
  {
   "cell_type": "code",
   "execution_count": 5,
   "metadata": {},
   "outputs": [],
   "source": [
    "### Compute Jacobian matrix: \n",
    "\n",
    "def jacobian(r: np.ndarray,\n",
    "             x: np.ndarray) -> np.ndarray:\n",
    "    # input: mk-dimensional vector (r) \n",
    "    # input: n-dimensional vector (x) \n",
    "    # output: mk x n dimensional matrix (J)\n",
    "    pass \n",
    "\n",
    "def compute_grad(j: np.ndarray,\n",
    "                 r: np.ndarray) -> np.ndarray: \n",
    "    # input: jacobian matrix ( mk x n ) \n",
    "    # output: residual vector\n",
    "    grad = 2 * np.matmul(j.T, r) \n",
    "    return grad \n",
    "\n",
    "def compute_hessian(j: np.ndarray) -> np.ndarray: \n",
    "    hessian = 2 * np.matmul(j.T, j)\n",
    "    return hessian \n",
    "\n"
   ]
  },
  {
   "cell_type": "markdown",
   "metadata": {},
   "source": [
    "### 3. Surrogate model\n",
    "\n",
    "$$\n",
    "\\begin{equation}\n",
    "q(\\Delta \\mathbf{x}) = f + g^{T}\\Delta \\mathbf{x} + \\frac{1}{2} \\Delta \\mathbf{x}^{T} \\mathbf{H} \\Delta \\mathbf{x} \n",
    "\\end{equation}\n",
    "$$"
   ]
  },
  {
   "cell_type": "code",
   "execution_count": 6,
   "metadata": {},
   "outputs": [],
   "source": [
    "def surrogate(dx, jacobian, residual):\n",
    "    return np.linalg.norm(np.matmul(jacobian, dx) + residual)**2\n",
    "\n",
    "def model_qual(grad, hess, x, x_new):\n",
    "    rho = 0 \n",
    "    return rho"
   ]
  },
  {
   "cell_type": "code",
   "execution_count": 7,
   "metadata": {},
   "outputs": [
    {
     "ename": "AttributeError",
     "evalue": "'NoneType' object has no attribute 'T'",
     "output_type": "error",
     "traceback": [
      "\u001b[0;31m---------------------------------------------------------------------------\u001b[0m",
      "\u001b[0;31mAttributeError\u001b[0m                            Traceback (most recent call last)",
      "\u001b[1;32m/Users/sungweon-hong/Projects/NLO_final/practice.ipynb Cell 9\u001b[0m in \u001b[0;36m<cell line: 9>\u001b[0;34m()\u001b[0m\n\u001b[1;32m     <a href='vscode-notebook-cell:/Users/sungweon-hong/Projects/NLO_final/practice.ipynb#X13sZmlsZQ%3D%3D?line=9'>10</a>\u001b[0m j \u001b[39m=\u001b[39m jacobian(r, x) \n\u001b[1;32m     <a href='vscode-notebook-cell:/Users/sungweon-hong/Projects/NLO_final/practice.ipynb#X13sZmlsZQ%3D%3D?line=10'>11</a>\u001b[0m r \u001b[39m=\u001b[39m residual(x) \n\u001b[0;32m---> <a href='vscode-notebook-cell:/Users/sungweon-hong/Projects/NLO_final/practice.ipynb#X13sZmlsZQ%3D%3D?line=11'>12</a>\u001b[0m grad \u001b[39m=\u001b[39m compute_grad(j, r) \n\u001b[1;32m     <a href='vscode-notebook-cell:/Users/sungweon-hong/Projects/NLO_final/practice.ipynb#X13sZmlsZQ%3D%3D?line=12'>13</a>\u001b[0m hess \u001b[39m=\u001b[39m compute_hessian(j) \n\u001b[1;32m     <a href='vscode-notebook-cell:/Users/sungweon-hong/Projects/NLO_final/practice.ipynb#X13sZmlsZQ%3D%3D?line=13'>14</a>\u001b[0m dx \u001b[39m=\u001b[39m \u001b[39m-\u001b[39m np\u001b[39m.\u001b[39mlinalg\u001b[39m.\u001b[39minv(hess \u001b[39m+\u001b[39m lambda_parameter \u001b[39m*\u001b[39m np\u001b[39m.\u001b[39meye(shape))\n",
      "\u001b[1;32m/Users/sungweon-hong/Projects/NLO_final/practice.ipynb Cell 9\u001b[0m in \u001b[0;36mcompute_grad\u001b[0;34m(j, r)\u001b[0m\n\u001b[1;32m     <a href='vscode-notebook-cell:/Users/sungweon-hong/Projects/NLO_final/practice.ipynb#X13sZmlsZQ%3D%3D?line=9'>10</a>\u001b[0m \u001b[39mdef\u001b[39;00m \u001b[39mcompute_grad\u001b[39m(j: np\u001b[39m.\u001b[39mndarray,\n\u001b[1;32m     <a href='vscode-notebook-cell:/Users/sungweon-hong/Projects/NLO_final/practice.ipynb#X13sZmlsZQ%3D%3D?line=10'>11</a>\u001b[0m                  r: np\u001b[39m.\u001b[39mndarray) \u001b[39m-\u001b[39m\u001b[39m>\u001b[39m np\u001b[39m.\u001b[39mndarray: \n\u001b[1;32m     <a href='vscode-notebook-cell:/Users/sungweon-hong/Projects/NLO_final/practice.ipynb#X13sZmlsZQ%3D%3D?line=11'>12</a>\u001b[0m     \u001b[39m# input: jacobian matrix ( mk x n ) \u001b[39;00m\n\u001b[1;32m     <a href='vscode-notebook-cell:/Users/sungweon-hong/Projects/NLO_final/practice.ipynb#X13sZmlsZQ%3D%3D?line=12'>13</a>\u001b[0m     \u001b[39m# output: residual vector\u001b[39;00m\n\u001b[0;32m---> <a href='vscode-notebook-cell:/Users/sungweon-hong/Projects/NLO_final/practice.ipynb#X13sZmlsZQ%3D%3D?line=13'>14</a>\u001b[0m     grad \u001b[39m=\u001b[39m \u001b[39m2\u001b[39m \u001b[39m*\u001b[39m np\u001b[39m.\u001b[39mmatmul(j\u001b[39m.\u001b[39;49mT, r) \n\u001b[1;32m     <a href='vscode-notebook-cell:/Users/sungweon-hong/Projects/NLO_final/practice.ipynb#X13sZmlsZQ%3D%3D?line=14'>15</a>\u001b[0m     \u001b[39mreturn\u001b[39;00m grad\n",
      "\u001b[0;31mAttributeError\u001b[0m: 'NoneType' object has no attribute 'T'"
     ]
    }
   ],
   "source": [
    "# Basic implementation of LM algorithm \n",
    "shape = (5, 1)\n",
    "converged = False \n",
    "x = np.zeros(shape=shape)\n",
    "r = np.zeros(shape=shape)\n",
    "eta = 0 \n",
    "lambda_parameter = 0.1 \n",
    "\n",
    "while not converged: \n",
    "    j = jacobian(r, x) \n",
    "    r = residual(x) \n",
    "    grad = compute_grad(j, r) \n",
    "    hess = compute_hessian(j) \n",
    "    dx = - np.linalg.inv(hess + lambda_parameter * np.eye(shape))\n",
    "    dx = dx @ grad \n",
    "    x_new = x + dx \n",
    "    rho = model_qual(grad, hess, x, x_new)\n",
    "\n",
    "    if rho > eta: \n",
    "        pass \n",
    "    if rho < 0.25:\n",
    "        lambda_parameter *= 4\n",
    "    if rho > 0.75:\n",
    "        lambda_parameter /= 2\n",
    "\n",
    "    func_tol = np.abs(cost(x)-cost(x_new))\n",
    "    converged = func_tol < 1e-3 \n",
    "    break\n",
    "\n"
   ]
  },
  {
   "cell_type": "code",
   "execution_count": null,
   "metadata": {},
   "outputs": [],
   "source": []
  }
 ],
 "metadata": {
  "kernelspec": {
   "display_name": "Python 3.8.13 ('tfenv')",
   "language": "python",
   "name": "python3"
  },
  "language_info": {
   "codemirror_mode": {
    "name": "ipython",
    "version": 3
   },
   "file_extension": ".py",
   "mimetype": "text/x-python",
   "name": "python",
   "nbconvert_exporter": "python",
   "pygments_lexer": "ipython3",
   "version": "3.8.13"
  },
  "orig_nbformat": 4,
  "vscode": {
   "interpreter": {
    "hash": "2f5b81e4d5ffe865455abfc95d84d12ec77a2021f6e27c6b9af31a0e77a4cf1c"
   }
  }
 },
 "nbformat": 4,
 "nbformat_minor": 2
}
